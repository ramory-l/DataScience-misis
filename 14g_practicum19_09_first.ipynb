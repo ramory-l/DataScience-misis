{
  "nbformat": 4,
  "nbformat_minor": 0,
  "metadata": {
    "colab": {
      "name": "prime-numbers",
      "provenance": [],
      "collapsed_sections": [],
      "include_colab_link": true
    },
    "kernelspec": {
      "name": "python3",
      "display_name": "Python 3"
    }
  },
  "cells": [
    {
      "cell_type": "markdown",
      "metadata": {
        "id": "view-in-github",
        "colab_type": "text"
      },
      "source": [
        "<a href=\"https://colab.research.google.com/github/ramory-l/DataScience-misis/blob/main/14g_practicum19_09_first.ipynb\" target=\"_parent\"><img src=\"https://colab.research.google.com/assets/colab-badge.svg\" alt=\"Open In Colab\"/></a>"
      ]
    },
    {
      "cell_type": "markdown",
      "metadata": {
        "id": "V0e3bWc1Ql7h"
      },
      "source": [
        "# **Group 14**"
      ]
    },
    {
      "cell_type": "markdown",
      "metadata": {
        "id": "SUvMOGJDXwSF"
      },
      "source": [
        "## **Условие Задачи**\n",
        "\n",
        "\n",
        "\n"
      ]
    },
    {
      "cell_type": "markdown",
      "metadata": {
        "id": "No-f6UEuYQUk"
      },
      "source": [
        "Мы с Тамарой (парные простые)\n",
        "Специалистка по нейронным сетям Бакаева любит искать простые числа. Сначала она решила найти простые числа идущие подряд. Очень быстро она обнаружила, что существует только одна пара таких чисел: (2 3).\n",
        "Тогда она решила поискать простые числа, идущие через одно число. Например, пара (5 7) удовлетворяет такому условию. Оказалось, что таких чисел много.\n",
        "Помогите г-же Бакаевой найти количество пар и сумму первых элементов пар простых чисел, оба из которых лежат в промежутке от a до b включительно и между ними расположено ровно одно число (т. е., b - a == 2).\n",
        "\n",
        "Ограничения: 2 <= a < b <= 10 ** 7.\n",
        "\n",
        "```\n",
        "Пример 1.\n",
        "a = 2, b = 20\n",
        "Ответ: 4, 36\n",
        "Пояснение. Вот все парные простые числа от 2 до 20:\n",
        "3 5\n",
        "5 7\n",
        "11 13\n",
        "17 19\n",
        "Всего 4 пары, а сумма 3+5+11+17=36\n",
        "```\n",
        "\n",
        "```\n",
        "Пример 2.\n",
        "a = 203, b = 10000000\n",
        "Ответ: 58965 272839238019\n",
        "```"
      ]
    },
    {
      "cell_type": "markdown",
      "metadata": {
        "id": "PLg4BqBgi4UI"
      },
      "source": [
        "## **Решение**"
      ]
    },
    {
      "cell_type": "code",
      "metadata": {
        "id": "QAY4TAPWjHKo"
      },
      "source": [
        "def get_prime_grid(n):\n",
        "    grid = [True] * n\n",
        "    grid[2::2] = [False] * ((n - 3) // 2 + 1)\n",
        "    \n",
        "    for i in range(3, int(n ** 0.5) + 1, 2):\n",
        "        if grid[i]:\n",
        "            grid[i ** 2::i * 2] = [False] * ((n - 1 - i ** 2) // (i * 2) + 1)\n",
        "    \n",
        "    return grid\n",
        "\n",
        "\n",
        "def get_primes_pairs_count(a, b):\n",
        "    pairs_count = 0\n",
        "    sum_first = 0\n",
        "    \n",
        "    primes_grid = get_prime_grid(b)\n",
        "    \n",
        "    start = a + 1 if a % 2 == 0 else a\n",
        "    prev_prime = start\n",
        "    \n",
        "    for i in range(start, b, 2):\n",
        "        if primes_grid[i]:\n",
        "            if i - prev_prime == 2:\n",
        "                sum_first += prev_prime\n",
        "                pairs_count += 1\n",
        "            \n",
        "            prev_prime = i\n",
        "    \n",
        "    return pairs_count, sum_first"
      ],
      "execution_count": null,
      "outputs": []
    },
    {
      "cell_type": "code",
      "metadata": {
        "id": "7gN3Az56uEGD",
        "outputId": "d664a167-58da-4729-dd79-f284fd6a60b3",
        "colab": {
          "base_uri": "https://localhost:8080/",
          "height": 68
        }
      },
      "source": [
        "%%time \n",
        "get_primes_pairs_count(203, 10 ** 7)"
      ],
      "execution_count": null,
      "outputs": [
        {
          "output_type": "stream",
          "text": [
            "CPU times: user 590 ms, sys: 6.48 ms, total: 596 ms\n",
            "Wall time: 599 ms\n"
          ],
          "name": "stdout"
        },
        {
          "output_type": "execute_result",
          "data": {
            "text/plain": [
              "(58965, 272839238019)"
            ]
          },
          "metadata": {
            "tags": []
          },
          "execution_count": 7
        }
      ]
    },
    {
      "cell_type": "markdown",
      "metadata": {
        "id": "uSLIFtRQB_fn"
      },
      "source": [
        "## **Лев**"
      ]
    },
    {
      "cell_type": "markdown",
      "metadata": {
        "id": "49-UN6Hoj0LQ"
      },
      "source": [
        "Самый простой способ нахождения простого числа."
      ]
    },
    {
      "cell_type": "code",
      "metadata": {
        "id": "mKTSpXrVhfAu"
      },
      "source": [
        "def is_prime(n):\n",
        "    return n > 1 and all(n % d for d in range(2, int(n ** 0.5) + 1))"
      ],
      "execution_count": null,
      "outputs": []
    },
    {
      "cell_type": "markdown",
      "metadata": {
        "id": "qDev8k46jr6t"
      },
      "source": [
        "Этот же способ, но используя итератор. Он немного быстрее."
      ]
    },
    {
      "cell_type": "code",
      "metadata": {
        "id": "goFmmRVWhZuU"
      },
      "source": [
        "from itertools import count, islice\n",
        "\n",
        "def is_prime(n):\n",
        "    return n > 1 and all(n % i for i in islice(count(2), int(n ** 0.5 - 1)))"
      ],
      "execution_count": null,
      "outputs": []
    },
    {
      "cell_type": "markdown",
      "metadata": {
        "id": "wUvfO8Tgj2WN"
      },
      "source": [
        "**Тест Миллера-Рабина**\n",
        "\n",
        "Для ультрабольших чисел. Для нашей задачи не подойдет - долго."
      ]
    },
    {
      "cell_type": "code",
      "metadata": {
        "id": "w33E9gMNhrGC"
      },
      "source": [
        "import random\n",
        "\n",
        "def even_odd(n):\n",
        "    s, d = 0, n\n",
        "    while d % 2 == 0:\n",
        "          s += 1\n",
        "          d >>= 1\n",
        "    return s, d\n",
        "\n",
        "def Miller_Rabin(a, p):\n",
        "    s, d = even_odd(p - 1)\n",
        "    a = pow(a, d, p)\n",
        "    if a == 1: return True\n",
        "    for i in range(s):\n",
        "        if a == p - 1: return True\n",
        "        a = pow(a, 2, p)\n",
        "    return False\n",
        "\n",
        "def is_prime(p):\n",
        "    if p == 2: return True\n",
        "    if p <= 1 or p % 2 == 0: return False\n",
        "    return all(Miller_Rabin(random.randint(2,p - 1),p) for _ in range(40))"
      ],
      "execution_count": null,
      "outputs": []
    },
    {
      "cell_type": "markdown",
      "metadata": {
        "id": "FUZkZ4KIgWUV"
      },
      "source": [
        "Все они вызываются следующей функцией, которая дает ответ на вопрос задачи:"
      ]
    },
    {
      "cell_type": "code",
      "metadata": {
        "id": "jk6YPwlxgWgZ"
      },
      "source": [
        "def sum_first_prime(a,b):\n",
        "    sum = 0\n",
        "    count = 0\n",
        "    for i in range(a, b - 1):\n",
        "        if is_prime(i) and is_prime(i + 2):\n",
        "            count += 1\n",
        "            sum += i\n",
        "    return count, sum"
      ],
      "execution_count": null,
      "outputs": []
    },
    {
      "cell_type": "markdown",
      "metadata": {
        "id": "eCyhNukCoYum"
      },
      "source": [
        "**Решето Эратосфена**\n",
        "\n",
        "Улучшение реализации решета Эратосфена от Дмитрия декоратором \"@njit\".\n",
        "\n",
        "Суть этого декоратора в том, что он эффективно переводит питоновский код в машинный, что позволяет сильно ускорить этот алгоритм."
      ]
    },
    {
      "cell_type": "code",
      "metadata": {
        "id": "Sr5ySwzjoeqz"
      },
      "source": [
        "from numba import njit\n",
        "\n",
        "@njit\n",
        "def get_primes_grid(end):\n",
        "    lst = [i == 2 or i % 2 != 0 for i in range(end + 1)]\n",
        "    \n",
        "    prime = 3\n",
        "    while prime <= end ** 0.5:\n",
        "        for j in range(prime ** 2, end + 1, prime):\n",
        "            lst[j] = False\n",
        "        \n",
        "        prime += 2\n",
        "    \n",
        "    return lst\n",
        "\n",
        "@njit\n",
        "def get_primes_pairs_count(a, b):\n",
        "    pairs_count = 0\n",
        "    sum_first = 0\n",
        "    \n",
        "    primes_grid = get_primes_grid(b)\n",
        "    \n",
        "    start = a + 1 if a % 2 == 0 else a\n",
        "    prev_prime = start\n",
        "    \n",
        "    for i in range(start, b, 2):\n",
        "        if primes_grid[i]:\n",
        "            if i - prev_prime == 2:\n",
        "                sum_first += prev_prime\n",
        "                pairs_count += 1\n",
        "\n",
        "            prev_prime = i\n",
        "    \n",
        "    return pairs_count, sum_first"
      ],
      "execution_count": null,
      "outputs": []
    },
    {
      "cell_type": "code",
      "metadata": {
        "id": "3yiDmubromLS",
        "outputId": "d860a283-2a35-448b-cf32-183f33efca9f",
        "colab": {
          "base_uri": "https://localhost:8080/",
          "height": 68
        }
      },
      "source": [
        "%%time\n",
        "get_primes_pairs_count(203, 10 ** 7)"
      ],
      "execution_count": null,
      "outputs": [
        {
          "output_type": "stream",
          "text": [
            "CPU times: user 863 ms, sys: 33.2 ms, total: 896 ms\n",
            "Wall time: 963 ms\n"
          ],
          "name": "stdout"
        },
        {
          "output_type": "execute_result",
          "data": {
            "text/plain": [
              "(58965, 272839238019)"
            ]
          },
          "metadata": {
            "tags": []
          },
          "execution_count": 2
        }
      ]
    },
    {
      "cell_type": "markdown",
      "metadata": {
        "id": "phfn0ZbOWruC"
      },
      "source": [
        "## **Михаил**"
      ]
    },
    {
      "cell_type": "markdown",
      "metadata": {
        "id": "ZkihEGdHv3tZ"
      },
      "source": [
        "***Алгоритм - Решето Эратосфена***"
      ]
    },
    {
      "cell_type": "code",
      "metadata": {
        "id": "kJxjCMsXW6lK"
      },
      "source": [
        "# Находим простые числа между 2 и max_number (включительно)\n",
        "def prime_pairs_inrange(a, max_number):\n",
        "    # Определяем массив для чисел.\n",
        "    is_composite = [False for i in range(max_number + 1)]\n",
        "\n",
        "    # Исключаем числа,кратные 2.\n",
        "    for i in range(4, max_number + 1, 2):\n",
        "        is_composite[i] = True\n",
        "\n",
        "    # Исключаем числа, кратные найденным простым числам.\n",
        "    next_prime = 3\n",
        "    stop_at = max_number ** 0.5\n",
        "    while next_prime <= stop_at:\n",
        "        # Исключаем числа, кратные данному простому числу.\n",
        "        for i in range(next_prime * 2, max_number + 1, next_prime):\n",
        "            is_composite[i] = True\n",
        "        # Переходим к следующему простому числу, пропуская четные числа.\n",
        "        next_prime = next_prime + 2\n",
        "        while next_prime <= max_number and is_composite[next_prime]:\n",
        "            next_prime += 2\n",
        "\n",
        "    # Находим пары, такой же алгоритм, как у Дмитрия\n",
        "    result = 0\n",
        "    pairs = 0\n",
        "\n",
        "    start = a + 1 if a % 2 == 0 else a\n",
        "    pair_start = start\n",
        "\n",
        "    for i in range(start + 2, max_number + 1, 2):\n",
        "        if not is_composite[i]:\n",
        "            if i - pair_start == 2:\n",
        "                result += pair_start\n",
        "                pairs += 1\n",
        "            pair_start = i\n",
        "\n",
        "    return pairs, result"
      ],
      "execution_count": null,
      "outputs": []
    },
    {
      "cell_type": "code",
      "metadata": {
        "id": "dYeHgA5MxBHI",
        "outputId": "936d127b-072c-483b-d610-d3f04eb285ce",
        "colab": {
          "base_uri": "https://localhost:8080/",
          "height": 68
        }
      },
      "source": [
        "%%time\n",
        "prime_pairs_inrange(2, 20)"
      ],
      "execution_count": null,
      "outputs": [
        {
          "output_type": "stream",
          "text": [
            "CPU times: user 13 µs, sys: 0 ns, total: 13 µs\n",
            "Wall time: 16 µs\n"
          ],
          "name": "stdout"
        },
        {
          "output_type": "execute_result",
          "data": {
            "text/plain": [
              "(4, 36)"
            ]
          },
          "metadata": {
            "tags": []
          },
          "execution_count": 46
        }
      ]
    },
    {
      "cell_type": "code",
      "metadata": {
        "id": "g9EBBcm7xElD",
        "outputId": "e8fa1aa1-b2c9-449d-f56a-d526cc73f79d",
        "colab": {
          "base_uri": "https://localhost:8080/",
          "height": 68
        }
      },
      "source": [
        "%%time\n",
        "prime_pairs_inrange(203, 1000000)"
      ],
      "execution_count": null,
      "outputs": [
        {
          "output_type": "stream",
          "text": [
            "CPU times: user 235 ms, sys: 5.77 ms, total: 240 ms\n",
            "Wall time: 242 ms\n"
          ],
          "name": "stdout"
        },
        {
          "output_type": "execute_result",
          "data": {
            "text/plain": [
              "(8154, 3712173858)"
            ]
          },
          "metadata": {
            "tags": []
          },
          "execution_count": 6
        }
      ]
    },
    {
      "cell_type": "code",
      "metadata": {
        "id": "ZyUDiyLDxXUW",
        "outputId": "aadad495-75fa-43da-fd7e-d2986e128eee",
        "colab": {
          "base_uri": "https://localhost:8080/",
          "height": 68
        }
      },
      "source": [
        "%%time\n",
        "prime_pairs_inrange(203, 10 ** 7)"
      ],
      "execution_count": null,
      "outputs": [
        {
          "output_type": "stream",
          "text": [
            "CPU times: user 2.57 s, sys: 37.5 ms, total: 2.61 s\n",
            "Wall time: 2.62 s\n"
          ],
          "name": "stdout"
        },
        {
          "output_type": "execute_result",
          "data": {
            "text/plain": [
              "(58965, 272839238019)"
            ]
          },
          "metadata": {
            "tags": []
          },
          "execution_count": 7
        }
      ]
    },
    {
      "cell_type": "markdown",
      "metadata": {
        "id": "EfdWMq2yFShW"
      },
      "source": [
        "## **Дмитрий**\n"
      ]
    },
    {
      "cell_type": "code",
      "metadata": {
        "id": "Csuw499TFjmc"
      },
      "source": [
        "def is_prime(num):\n",
        "    for i in range(2, int(num ** 0.5) + 1):\n",
        "        if num % i == 0:\n",
        "            return False\n",
        "    \n",
        "    return True\n",
        "\n",
        "\n",
        "def get_prime_count(a, b):\n",
        "    res = 0\n",
        "    pairs = 0\n",
        "    \n",
        "    start = a + 1 if a % 2 == 0 else a\n",
        "    pair_start = start\n",
        "    \n",
        "    for i in range(start + 2, b + 1, 2):\n",
        "        if is_prime(i):\n",
        "            if i - pair_start == 2:\n",
        "                res += pair_start\n",
        "                pairs += 1\n",
        "            pair_start = i\n",
        "    \n",
        "    return pairs, res"
      ],
      "execution_count": null,
      "outputs": []
    },
    {
      "cell_type": "code",
      "metadata": {
        "id": "-r9jcjOJGmjH",
        "outputId": "86e6d372-68a1-4bbb-9ae9-0b056affca21",
        "colab": {
          "base_uri": "https://localhost:8080/",
          "height": 68
        }
      },
      "source": [
        "%%time\n",
        "get_prime_count(2, 20)"
      ],
      "execution_count": null,
      "outputs": [
        {
          "output_type": "stream",
          "text": [
            "CPU times: user 57 µs, sys: 2 µs, total: 59 µs\n",
            "Wall time: 61.3 µs\n"
          ],
          "name": "stdout"
        },
        {
          "output_type": "execute_result",
          "data": {
            "text/plain": [
              "(4, 36)"
            ]
          },
          "metadata": {
            "tags": []
          },
          "execution_count": 42
        }
      ]
    },
    {
      "cell_type": "code",
      "metadata": {
        "id": "Jx0gRv6gGqdZ",
        "outputId": "4752d569-7a9e-470a-bb2c-a1dde90773ca",
        "colab": {
          "base_uri": "https://localhost:8080/",
          "height": 68
        }
      },
      "source": [
        "%%time\n",
        "get_prime_count(203, 1000000)"
      ],
      "execution_count": null,
      "outputs": [
        {
          "output_type": "stream",
          "text": [
            "CPU times: user 4.24 s, sys: 0 ns, total: 4.24 s\n",
            "Wall time: 4.25 s\n"
          ],
          "name": "stdout"
        },
        {
          "output_type": "execute_result",
          "data": {
            "text/plain": [
              "(8154, 3712173858)"
            ]
          },
          "metadata": {
            "tags": []
          },
          "execution_count": 43
        }
      ]
    },
    {
      "cell_type": "code",
      "metadata": {
        "id": "-lS4pGk5EZBS",
        "outputId": "f84b117e-9415-43f7-8673-5f4f7fb7e3c5",
        "colab": {
          "base_uri": "https://localhost:8080/",
          "height": 68
        }
      },
      "source": [
        "%%time\n",
        "get_prime_count(203, 10 ** 7)"
      ],
      "execution_count": null,
      "outputs": [
        {
          "output_type": "stream",
          "text": [
            "CPU times: user 1min 59s, sys: 0 ns, total: 1min 59s\n",
            "Wall time: 1min 59s\n"
          ],
          "name": "stdout"
        },
        {
          "output_type": "execute_result",
          "data": {
            "text/plain": [
              "(58965, 272839238019)"
            ]
          },
          "metadata": {
            "tags": []
          },
          "execution_count": 44
        }
      ]
    },
    {
      "cell_type": "markdown",
      "metadata": {
        "id": "OrjMBnNa6xFv"
      },
      "source": [
        "**Алгоритм - Решето Эратосфена**\n"
      ]
    },
    {
      "cell_type": "code",
      "metadata": {
        "id": "snhiyimR6stx"
      },
      "source": [
        "def get_primes_grid(end):\n",
        "    lst = [True if i == 2 or i % 2 != 0 else False for i in range(end + 1)]\n",
        "    \n",
        "    prime = 3\n",
        "    while prime <= end ** 0.5:\n",
        "        for j in range(prime ** 2, end + 1, prime):\n",
        "            lst[j] = False\n",
        "        \n",
        "        prime += 2\n",
        "        while not lst[prime]:\n",
        "            prime += 2\n",
        "    \n",
        "    return lst\n",
        "\n",
        "\n",
        "def get_primes_pairs_count(a, b):\n",
        "    pairs_count = 0\n",
        "    sum_first = 0\n",
        "    \n",
        "    primes_grid = get_primes_grid(b)\n",
        "    \n",
        "    start = a + 1 if a % 2 == 0 else a\n",
        "    prev_prime = start\n",
        "    \n",
        "    for i in range(start, b, 2):\n",
        "        if primes_grid[i]:\n",
        "            if i - prev_prime == 2:\n",
        "                sum_first += prev_prime\n",
        "                pairs_count += 1\n",
        "            \n",
        "            prev_prime = i\n",
        "    \n",
        "    return pairs_count, sum_first"
      ],
      "execution_count": null,
      "outputs": []
    },
    {
      "cell_type": "code",
      "metadata": {
        "id": "mAGU_Wu97H2n",
        "outputId": "5fbadeb1-a102-44fe-a448-d91501caf25d",
        "colab": {
          "base_uri": "https://localhost:8080/",
          "height": 68
        }
      },
      "source": [
        "%%time\n",
        "get_primes_pairs_count(203, 10 ** 7)"
      ],
      "execution_count": null,
      "outputs": [
        {
          "output_type": "stream",
          "text": [
            "CPU times: user 2.81 s, sys: 152 ms, total: 2.96 s\n",
            "Wall time: 2.98 s\n"
          ],
          "name": "stdout"
        },
        {
          "output_type": "execute_result",
          "data": {
            "text/plain": [
              "(58965, 272839238019)"
            ]
          },
          "metadata": {
            "tags": []
          },
          "execution_count": 2
        }
      ]
    },
    {
      "cell_type": "markdown",
      "metadata": {
        "id": "HUEmLVrbHOdl"
      },
      "source": [
        "## **Наталья**"
      ]
    },
    {
      "cell_type": "code",
      "metadata": {
        "id": "BDa0Cm69IGRb"
      },
      "source": [
        "# Функция, определяющая простое число или нет в интервале от 2 до n\n",
        "def is_prime (n):\n",
        "    for i in range (2, int(n**0.5)):\n",
        "        if n % i == 0:\n",
        "            return False\n",
        "    return True\n",
        "\n",
        "# Функция поиска количества пар простых чисел и  сумму первых элементов пар простых чисел, \n",
        "# оба из которых лежат в промежутке от a до b включительно и между ними расположено ровно одно число\n",
        "\n",
        "def pairs_and_sum_first (a, b):\n",
        "    pairs = 0\n",
        "    sum_of_first = 0\n",
        "    for i in range (a, b):\n",
        "        if is_prime (i)  and is_prime(i + 2):\n",
        "            pairs += 1\n",
        "            sum_of_first += i\n",
        "    return pairs, sum_of_first"
      ],
      "execution_count": null,
      "outputs": []
    },
    {
      "cell_type": "code",
      "metadata": {
        "id": "jrk7esgnIMok",
        "outputId": "710ad84b-f522-41c7-c301-93451b1b2c89",
        "colab": {
          "base_uri": "https://localhost:8080/",
          "height": 68
        }
      },
      "source": [
        "%%time\n",
        "pairs_and_sum_first(203, 10 ** 7)"
      ],
      "execution_count": null,
      "outputs": [
        {
          "output_type": "stream",
          "text": [
            "CPU times: user 2min 22s, sys: 17 ms, total: 2min 22s\n",
            "Wall time: 2min 22s\n"
          ],
          "name": "stdout"
        },
        {
          "output_type": "execute_result",
          "data": {
            "text/plain": [
              "(59085, 273136134039)"
            ]
          },
          "metadata": {
            "tags": []
          },
          "execution_count": 13
        }
      ]
    },
    {
      "cell_type": "markdown",
      "metadata": {
        "id": "vZP53k0aANDR"
      },
      "source": [
        "# **Саид**"
      ]
    },
    {
      "cell_type": "code",
      "metadata": {
        "id": "Io835WqfATjJ",
        "outputId": "e6641cee-eb5d-4e88-b8c7-7b26b1b4fb62",
        "colab": {
          "base_uri": "https://localhost:8080/",
          "height": 84
        }
      },
      "source": [
        "%%time\n",
        "#==============================================\n",
        "#v1 - первое что в голову пришло, решение простой перебор ~20мин\n",
        "#==============================================\n",
        "def is_prime(n):\n",
        "  for i in range(2, n+1):\n",
        "    if n%i == 0 and i != 1 and i != n:\n",
        "      return False\n",
        "  return True\n",
        "def get_prime_numbers_1(start, end):\n",
        "  stack = []\n",
        "  for i in range(start, end, 2):\n",
        "    if is_prime(i):\n",
        "      stack.append(i)\n",
        "  return stack\n",
        "#==============================================\n",
        "#v2 - чуть прикинул так ~20мин\n",
        "#==============================================\n",
        "max_num = 1000000\n",
        "nums = list(range(1,max_num,2))\n",
        "del nums[0]\n",
        "def exclude_non_prime(num, v1):\n",
        "  for v in nums[num*num::]:\n",
        "    if (v%v1 == 0 and v != v1):\n",
        "      nums.remove(v)\n",
        "def get_prime_numbers_2(n):\n",
        "  max_num = n\n",
        "  for num, value in enumerate(nums):\n",
        "    exclude_non_prime(num, value)\n",
        "  return nums\n",
        "#print(len(nums))\n",
        "#print(nums)\n",
        "\n",
        "#==============================================\n",
        "#v3 - потом так ~3,5мин\n",
        "#==============================================\n",
        "x1 = 1\n",
        "x3 = 3\n",
        "x7 = 7\n",
        "x9 = 9\n",
        "max = 10000000\n",
        "d = list(range(1,max-1,2))\n",
        "stack = []\n",
        "\n",
        "def get_primes(n):\n",
        "  s1 = True\n",
        "  s3 = True\n",
        "  s7 = True\n",
        "  s9 = True\n",
        "  \n",
        "  for i in d[1:int(n**0.5)-1:]:\n",
        "    if (s1 and (n+x1)%i == 0):\n",
        "      s1 = False\n",
        "    if (s3 and (n+x3)%i == 0):\n",
        "      s3 = False\n",
        "    if (s7 and (n+x7)%i == 0):\n",
        "      s7 = False\n",
        "    if (s9 and (n+x9)%i == 0):\n",
        "      s9 = False\n",
        "  if (s1):\n",
        "    stack.append(n+x1)\n",
        "  if (s3):\n",
        "    stack.append(n+x3)\n",
        "  if (s7):\n",
        "    stack.append(n+x7)\n",
        "  if (s9):\n",
        "    stack.append(n+x9)\n",
        "\n",
        "def get_prime_numbers_3(n):\n",
        "  max = n\n",
        "  for i in range(10, max, 10):\n",
        "    get_primes(i)\n",
        "  return stack\n",
        "\n",
        "#==============================================\n",
        "#v4 - а потом начал гуглить ~1,2сек\n",
        "#==============================================\n",
        "\n",
        "def get_prime_numbers_4( n):\n",
        "    sieve = [True] * n\n",
        "    for i in range(3,int(n**0.5)+1,2):\n",
        "        if sieve[i]:\n",
        "            sieve[i*i::2*i]=[False]*((n-i*i-1)//(2*i)+1)\n",
        "    return [2] + [i for i in range(3,n,2) if sieve[i]]\n",
        "\n",
        "\n",
        "#==============================================\n",
        "#Решение: используем метод v4\n",
        "#==============================================\n",
        "\n",
        "def create_paired_numbers_by_delta(prime_numbers, start, delta):\n",
        "  stack = []\n",
        "  max = len(prime_numbers)\n",
        "  for index, current_number in enumerate(prime_numbers):\n",
        "    if current_number <= start:\n",
        "      continue\n",
        "    if index+1 == max:\n",
        "      break\n",
        "    next_number = prime_numbers[index+1]\n",
        "    if current_number+delta == next_number:\n",
        "      stack.append([current_number, next_number])\n",
        "  return stack\n",
        "def calc_paired_numbers_by_index(array, index):\n",
        "  sum = 0\n",
        "  for i in array:\n",
        "    sum += i[index]\n",
        "  return sum\n",
        "\n",
        "#==============================================\n",
        "prime_numbers = get_prime_numbers_4(10000000)\n",
        "paired_array = create_paired_numbers_by_delta(prime_numbers, 203,2)\n",
        "#print(paired_array)\n",
        "print(len(paired_array))\n",
        "print(calc_paired_numbers_by_index(paired_array, 0))"
      ],
      "execution_count": null,
      "outputs": [
        {
          "output_type": "stream",
          "text": [
            "58965\n",
            "272839238019\n",
            "CPU times: user 945 ms, sys: 106 ms, total: 1.05 s\n",
            "Wall time: 1.05 s\n"
          ],
          "name": "stdout"
        }
      ]
    }
  ]
}