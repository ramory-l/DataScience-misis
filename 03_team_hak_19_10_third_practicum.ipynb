{
  "nbformat": 4,
  "nbformat_minor": 0,
  "metadata": {
    "colab": {
      "name": "03_team_hak_19_10_third_practicum",
      "provenance": [],
      "collapsed_sections": [],
      "authorship_tag": "ABX9TyPMserDasraSQuRfvQO84r3"
    },
    "kernelspec": {
      "display_name": "Python 3",
      "name": "python3"
    }
  },
  "cells": [
    {
      "cell_type": "markdown",
      "metadata": {
        "id": "iULeRyqtY4Nc"
      },
      "source": [
        "# Фибоначчи"
      ]
    },
    {
      "cell_type": "markdown",
      "metadata": {
        "id": "5-iPm9kkN5tv"
      },
      "source": [
        "### Идея:\n",
        "\\begin{gather}\n",
        " \\begin{pmatrix}\n",
        "  F_{n+1} & F_n \\\\\n",
        "  F_n & F_{n-1}\n",
        " \\end{pmatrix}\n",
        " =\n",
        "  \\begin{pmatrix}\n",
        "   1 & 1 \\\\\n",
        "   1 & 0 \\\\\n",
        "   \\end{pmatrix}^{\\!n}\n",
        "\\end{gather}\n",
        "\n",
        "Обозначим:\n",
        "\\begin{gather}\n",
        " Q\n",
        " =\n",
        "  \\begin{pmatrix}\n",
        "   1 & 1 \\\\\n",
        "   1 & 0 \\\\\n",
        "   \\end{pmatrix}\n",
        "\\end{gather}\n",
        "\n",
        "Из тождества получаем, что $F_n = Q^{n} (1, 2)$ или $F_n = Q^{n-1} (1, 1)$"
      ]
    },
    {
      "cell_type": "markdown",
      "metadata": {
        "id": "vpXZ10_SQW7H"
      },
      "source": [
        "Вычисление $F_n$ сводиться к возведению матрицы в степень.\n",
        "Пусть у нас имеется некоторая матрица $M$, которую необходимо возвести в степень $n\\in \\mathbb{N}_1$. Предположим также, что $n$ является степенью двойки, т.е. $n=2^i,i\\in \\mathbb{N}_0$.  \n",
        "Тогда $M^n$ можно представить в виде дерева:  \n",
        "![image.png](https://habrastorage.org/storage2/9b8/7a2/d22/9b87a2d22757b3829364031ef890b61c.png)  \n",
        "Имеется в виду:\n",
        "$M^n=M^{n/2}\\cdot M^{n/2}=...=\\prod ^{n}_{1}M^1$.\n",
        "Соответственно, для вычисления матрицы $M^n$ нужно вычислить матрицу $M^{n/2}$ и умножить саму на себя. Для вычисления $M^{n/2}$ нужно тоже самое проделать с $M^{n/4}$ и т.д."
      ]
    },
    {
      "cell_type": "markdown",
      "metadata": {
        "id": "7B0ByRK7Tv67"
      },
      "source": [
        "Теперь же встает вопрос: что делать, если $n$ не является степенью двойки? Любое натуральное число $n$ можно разложить как сумму чисел, являющихся степенью двойки, причем без повторений (мы занимаемся этим каждый раз, когда переводим число из двоичной системы счисления в десятичную)."
      ]
    },
    {
      "cell_type": "markdown",
      "metadata": {
        "id": "_IEzH0-bYZ7U"
      },
      "source": [
        "## Алгоритм"
      ]
    },
    {
      "cell_type": "code",
      "metadata": {
        "id": "f2ELA3L_Y1ZN"
      },
      "source": [
        "class Fibonacci:\n",
        "    Q = [[1, 1], [1, 0]]\n",
        "\n",
        "    def __init__(self):\n",
        "        self.cache = {}\n",
        "\n",
        "    def get_matrix_power(self, M, p):\n",
        "        if p == 1:\n",
        "            return M\n",
        "        if p in self.cache:\n",
        "            return self.cache[p]\n",
        "        K = self.get_matrix_power(M, int(p/2))\n",
        "        R = self.multiply_matrices(K, K)\n",
        "        self.cache[p] = R\n",
        "        return R\n",
        "    \n",
        "    def multiply_matrices(self, M1, M2):\n",
        "        a11 = M1[0][0]*M2[0][0] + M1[0][1]*M2[1][0]\n",
        "        a12 = M1[0][0]*M2[0][1] + M1[0][1]*M2[1][1]\n",
        "        a21 = M1[1][0]*M2[0][0] + M1[1][1]*M2[1][0]\n",
        "        a22 = M1[1][0]*M2[0][1] + M1[1][1]*M2[1][1]\n",
        "        r = [[a11, a12], [a21, a22]]\n",
        "        return r\n",
        "\n",
        "    def get_number(self, n):\n",
        "        if n == 0:\n",
        "            return 0\n",
        "        if n == 1:\n",
        "            return 1\n",
        "        powers = []\n",
        "        p = 0\n",
        "        for digit in reversed(bin(n-1)[2:]):\n",
        "            if digit == '1':\n",
        "                powers.append(int(pow(2, p)))\n",
        "            p += 1\n",
        "        matrices = [self.get_matrix_power(Fibonacci.Q, p) for p in powers]\n",
        "        while len(matrices) > 1:\n",
        "            M1 = matrices.pop()\n",
        "            M2 = matrices.pop()\n",
        "            R = self.multiply_matrices(M1, M2)\n",
        "            matrices.append(R)\n",
        "        return matrices[0][0][0]\n",
        "    \n",
        "    def get_remainder(self, n, m):\n",
        "        number = self.get_number(n)\n",
        "        return number % m"
      ],
      "execution_count": null,
      "outputs": []
    },
    {
      "cell_type": "code",
      "metadata": {
        "id": "p0eWFE_BY-Tr"
      },
      "source": [
        "fibonacci = Fibonacci()"
      ],
      "execution_count": 79,
      "outputs": []
    },
    {
      "cell_type": "code",
      "metadata": {
        "id": "uGfGA-n4ZHdL",
        "outputId": "55c741cd-6dd5-4651-c9ba-36299e358abd",
        "colab": {
          "base_uri": "https://localhost:8080/"
        }
      },
      "source": [
        "%%time\n",
        "fibonacci.get_number(999)"
      ],
      "execution_count": 80,
      "outputs": [
        {
          "output_type": "stream",
          "text": [
            "CPU times: user 63 µs, sys: 11 µs, total: 74 µs\n",
            "Wall time: 76.8 µs\n"
          ],
          "name": "stdout"
        },
        {
          "output_type": "execute_result",
          "data": {
            "text/plain": [
              "26863810024485359386146727202142923967616609318986952340123175997617981700247881689338369654483356564191827856161443356312976673642210350324634850410377680367334151172899169723197082763985615764450078474174626"
            ]
          },
          "metadata": {
            "tags": []
          },
          "execution_count": 80
        }
      ]
    },
    {
      "cell_type": "markdown",
      "metadata": {
        "id": "QXuNh2GiXavt"
      },
      "source": [
        "## Оптимизированный алгоритм"
      ]
    },
    {
      "cell_type": "markdown",
      "metadata": {
        "id": "taBO5RlDlh_J"
      },
      "source": [
        "\\begin{gather}\n",
        " \\begin{pmatrix}\n",
        "  a & b \\\\\n",
        "  b & c\n",
        " \\end{pmatrix}\n",
        " *\n",
        " \\begin{pmatrix}\n",
        "  a & b \\\\\n",
        "  b & c \\\\\n",
        " \\end{pmatrix}\n",
        " =\n",
        " \\begin{pmatrix}\n",
        "  a^2 + b^2 & ab + bc \\\\\n",
        "  ab + bc & b^2 + c^2 \\\\\n",
        " \\end{pmatrix}\n",
        "\\end{gather}"
      ]
    },
    {
      "cell_type": "code",
      "metadata": {
        "id": "-r9vdJwNZJ9k"
      },
      "source": [
        "def fibonacci(n):\n",
        "    a, b, c = 1, 1, 0\n",
        "    for bit in bin(n)[3:]:\n",
        "        temp = b * b\n",
        "        a, b, c = a*a + temp, (a + c)*b, temp + c*c\n",
        "        if bit=='1':\n",
        "          a, b, c = a + b, a, b\n",
        "    return b"
      ],
      "execution_count": 82,
      "outputs": []
    },
    {
      "cell_type": "code",
      "metadata": {
        "id": "2MXHVT6TZWPU",
        "outputId": "54fb4883-8078-43f3-febd-07c7f4b71373",
        "colab": {
          "base_uri": "https://localhost:8080/"
        }
      },
      "source": [
        "%%time\n",
        "fibonacci(999)"
      ],
      "execution_count": 83,
      "outputs": [
        {
          "output_type": "stream",
          "text": [
            "CPU times: user 19 µs, sys: 3 µs, total: 22 µs\n",
            "Wall time: 27.2 µs\n"
          ],
          "name": "stdout"
        },
        {
          "output_type": "execute_result",
          "data": {
            "text/plain": [
              "26863810024485359386146727202142923967616609318986952340123175997617981700247881689338369654483356564191827856161443356312976673642210350324634850410377680367334151172899169723197082763985615764450078474174626"
            ]
          },
          "metadata": {
            "tags": []
          },
          "execution_count": 83
        }
      ]
    },
    {
      "cell_type": "markdown",
      "metadata": {
        "id": "mkr_yoKSXfuT"
      },
      "source": [
        "## Алгоритм с нахождением остатка\n"
      ]
    },
    {
      "cell_type": "code",
      "metadata": {
        "id": "qUaUje23edJt"
      },
      "source": [
        "def fibonacci_with_remainder(n, m):\n",
        "    a, b, c = 1, 1, 0\n",
        "    for bit in bin(n)[3:]:\n",
        "        temp = (b * b) % m\n",
        "        a, b, c = (a*a + temp) % m, ((a + c)*b) % m, (temp + c*c) % m\n",
        "        if bit=='1':\n",
        "          a, b, c = (a + b) % m, a, b\n",
        "    return b"
      ],
      "execution_count": 84,
      "outputs": []
    },
    {
      "cell_type": "code",
      "metadata": {
        "id": "gP3R7jClX9-2",
        "outputId": "4cf2cec1-5a85-41d2-880a-10a650fc8d82",
        "colab": {
          "base_uri": "https://localhost:8080/"
        }
      },
      "source": [
        "%%time\n",
        "fibonacci_with_remainder(1000000000001, 99999)"
      ],
      "execution_count": 85,
      "outputs": [
        {
          "output_type": "stream",
          "text": [
            "CPU times: user 32 µs, sys: 0 ns, total: 32 µs\n",
            "Wall time: 33.9 µs\n"
          ],
          "name": "stdout"
        },
        {
          "output_type": "execute_result",
          "data": {
            "text/plain": [
              "63715"
            ]
          },
          "metadata": {
            "tags": []
          },
          "execution_count": 85
        }
      ]
    },
    {
      "cell_type": "code",
      "metadata": {
        "id": "0pH50CXcYLng"
      },
      "source": [
        ""
      ],
      "execution_count": null,
      "outputs": []
    }
  ]
}